{
 "cells": [
  {
   "cell_type": "markdown",
   "metadata": {},
   "source": []
  }
 ],
 "metadata": {
  "kernelspec": {
   "display_name": "Python 3.10.8 64-bit",
   "language": "python",
   "name": "python3"
  },
  "language_info": {
   "name": "python",
   "version": "3.10.8"
  },
  "orig_nbformat": 4,
  "vscode": {
   "interpreter": {
    "hash": "c3dcfcd2b4f8e8f0c611c08e622c86a20cb483c2c1ccf36e9cf27065b69ccba9"
   }
  }
 },
 "nbformat": 4,
 "nbformat_minor": 2
}
